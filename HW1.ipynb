{
 "cells": [
  {
   "cell_type": "markdown",
   "metadata": {},
   "source": [
    "# PHYS 6260: Homework 1, Mi Do"
   ]
  },
  {
   "cell_type": "code",
   "execution_count": 42,
   "metadata": {},
   "outputs": [],
   "source": [
    "import numpy as np"
   ]
  },
  {
   "cell_type": "markdown",
   "metadata": {},
   "source": [
    "## Problem 1: Altitude of a satellite\n",
    "\n",
    "A satellite is to be launched into a circular orbit around the Earth so that it orbits the planet once every T seconds. Treating the Earth as a perfect sphere with its center of mass in the middle, it can shown with classical mechanics that the altitude h above the Earth's surface must be \n",
    "\n",
    "\\begin{equation*}\n",
    "h = \\left(\\frac{GMT^2}{4\\pi^2}\\right)^{(1/3)}-R\n",
    "\\\\\\text{with } G = 6.67 \\times 10^{-11}m^3kg^{-1}s^{-2}\\text{ is Newton's gravitational constant, }M = 5.97 \\times 1024 \\text{ kg is the Earth mass, and } R = 6371 \\text{ km is its radius.}\n",
    "\\end{equation*}"
   ]
  },
  {
   "cell_type": "code",
   "execution_count": 43,
   "metadata": {},
   "outputs": [],
   "source": [
    "#Constant\n",
    "\n",
    "G = 6.67*10**(-11) #Newton's gravitational constant\n",
    "M = 5.97*10**24    #Earth mass\n",
    "R = 6371*1000      #Earth radius"
   ]
  },
  {
   "cell_type": "code",
   "execution_count": 47,
   "metadata": {},
   "outputs": [],
   "source": [
    "# function accept period in seconds as variable to return corresponding altitude\n",
    "\n",
    "def altitude(period):\n",
    "    h = ((G*M*period**2)/(4*np.pi**2))**(1/3)-R\n",
    "    print(\"With a period of %.2f seconds, the altitudes will be %.2f m or %.2e km\" % (period,h,h))\n",
    "    return h"
   ]
  },
  {
   "cell_type": "markdown",
   "metadata": {},
   "source": [
    "### Part (a)"
   ]
  },
  {
   "cell_type": "code",
   "execution_count": 48,
   "metadata": {
    "jupyter": {
     "outputs_hidden": false
    }
   },
   "outputs": [
    {
     "name": "stdout",
     "output_type": "stream",
     "text": [
      "What is the value of T in seconds? 9000\n",
      "With a period of 9000.00 seconds, the altitudes will be 2977497.49 m or 2.98e+06 km\n"
     ]
    }
   ],
   "source": [
    "#ask user to input desire value of period in seconds (T), \n",
    "#using function altitude(T) to calculate and print out the corresponding altitude in meters\n",
    "\n",
    "prompt1 = input(\"What is the value of T in seconds? \") \n",
    "t = float(prompt1)\n",
    "h1 = altitude(t)"
   ]
  },
  {
   "cell_type": "markdown",
   "metadata": {},
   "source": [
    "### Part (b)"
   ]
  },
  {
   "cell_type": "code",
   "execution_count": 49,
   "metadata": {
    "jupyter": {
     "outputs_hidden": false
    }
   },
   "outputs": [
    {
     "name": "stdout",
     "output_type": "stream",
     "text": [
      "One day is equal to 86400.00 seconds.\n",
      "With a period of 86400.00 seconds, the altitudes will be 35855910.18 m or 3.59e+07 km\n",
      "90 minutes is equal to 5400.00 seconds.\n",
      "With a period of 5400.00 seconds, the altitudes will be 279321.63 m or 2.79e+05 km\n",
      "45 minutes is equal to 2700.00 seconds.\n",
      "With a period of 2700.00 seconds, the altitudes will be -2181559.90 m or -2.18e+06 km\n"
     ]
    }
   ],
   "source": [
    "#using the function altitue(period) to calculate the altitudes of satellites that orbit the Earth:\n",
    "\n",
    "#a) once a day\n",
    "t1 = 24*60*60 #changing to seconds\n",
    "print(\"One day is equal to %.2f seconds.\" % t1)\n",
    "altitude1 = altitude(t1)\n",
    "\n",
    "#b) once every 90 minutes\n",
    "t2 = 90*60 #changing to seconds\n",
    "print(\"90 minutes is equal to %.2f seconds.\" % t2)\n",
    "altitude2 = altitude(t2)\n",
    "\n",
    "#c) once every 45 minutes\n",
    "t3 = 45*60 #changing to seconds\n",
    "print(\"45 minutes is equal to %.2f seconds.\" % t3)\n",
    "altitude3 = altitude(t3)"
   ]
  },
  {
   "cell_type": "markdown",
   "metadata": {},
   "source": [
    "One day is equal to 86400.00 seconds.\n",
    "With a period of 86400.00 seconds, the altitudes will be 35855910.18 m or 3.59e+07 km\n",
    "90 minutes is equal to 5400.00 seconds.\n",
    "With a period of 5400.00 seconds, the altitudes will be 279321.63 m or 2.79e+05 km\n",
    "45 minutes is equal to 2700.00 seconds.\n",
    "With a period of 2700.00 seconds, the altitudes will be -2181559.90 m or -2.18e+06 km\n",
    "\n",
    "With a period of 45 minutes, we get the negative altitudes. This means the satellite orbits within inside the Earth, which seems impossible!"
   ]
  },
  {
   "cell_type": "markdown",
   "metadata": {},
   "source": [
    "### Part (c)"
   ]
  },
  {
   "cell_type": "code",
   "execution_count": 50,
   "metadata": {},
   "outputs": [
    {
     "name": "stdout",
     "output_type": "stream",
     "text": [
      "With a period of 252.00 seconds, the altitudes will be -5508986.96 m or -5.51e+06 km\n"
     ]
    }
   ],
   "source": [
    "#calculate the difference in altitude between a period of 23.93 hours and 24 hours\n",
    "t4 = (24-23.93)*60*60\n",
    "altidude4 = altitude(t4)"
   ]
  },
  {
   "cell_type": "markdown",
   "metadata": {},
   "source": [
    "The sidereal day is about 4 minutes shorter than 24 hours, because while the Earth rotates around its axis, it also orbits around the Sun, so, in order to reach the same previous Earth - Sun position, the Earth needs to rotate a liitle longer compared to reach the same previous Earth - \"fixed\" star position. From the calculation above, we can see that this short amount of time makes a huge difference in the altitude of the satellite, about 5.5 km. "
   ]
  },
  {
   "cell_type": "markdown",
   "metadata": {},
   "source": [
    "## Problem 2: Special relativity"
   ]
  },
  {
   "cell_type": "markdown",
   "metadata": {
    "jupyter": {
     "outputs_hidden": false
    }
   },
   "source": [
    "A spaceship travels from Earth in a straight line at a relativistic speed v to another planet x light-years away. Time dilation is a special relativistic effect. An observer with some speed b relatice to another observer will experience time progressing at a slower rate. Let $\\Delta t'$ be the time interval for the moving frame, and $\\Delta t$ be the rest frame. They are related through the equation below with c is the speed of light:\n",
    "\n",
    "\\begin{equation*}\n",
    "\\Delta t' = \\Delta t \\left(1-\\frac{v^2}{c^2}\\right)^{1/2} \n",
    "\\end{equation*}\n",
    "\n",
    "Since we consider v as a fraction of the speed of light c, the equation above becomes\n",
    "\n",
    "\\begin{equation*}\n",
    "\\Delta t' = \\Delta t (1-a^2)^{1/2} \\text{ with v = ac} \n",
    "\\end{equation*}"
   ]
  },
  {
   "cell_type": "code",
   "execution_count": 72,
   "metadata": {},
   "outputs": [],
   "source": [
    "#function accepts a and x as variables \n",
    "#and print out the time in years that spaceship takes to reach its destination \n",
    "#in the rest frame of an observer on Earth and in a passenger on board the ship\n",
    "\n",
    "def time(x,a):\n",
    "    t = x/a\n",
    "    tprime = t*(1-a**2)**(1/2)\n",
    "    print(\"\\n The time that the spaceship takes to reach a planet %i light-years away with v = %.2fc in rest frame of an observer on Earth is %.2f years, and as perceived by a passenger on board the ship is %.2f years.\" % (x,a,t,tprime))\n",
    "    return t"
   ]
  },
  {
   "cell_type": "code",
   "execution_count": 73,
   "metadata": {},
   "outputs": [
    {
     "name": "stdout",
     "output_type": "stream",
     "text": [
      "What is the value of x in light years? 50\n",
      "What is the value of the speed v as a fraction of the speed of light c? 0.5\n",
      "\n",
      " The time that the spaceship takes to reach a planet 50 light-years away with v = 0.50c in rest frame of an observer on Earth is 100.00 years, and as perceived by a passenger on board the ship is 86.60 years.\n"
     ]
    }
   ],
   "source": [
    "#ask user to input desire value of x light years and the speed v as a fraction of the speed of light c (a)\n",
    "#using the function time(x,a) to calculate and print out the time in years in the rest frame and moving frame.\n",
    "\n",
    "prompt2 = input(\"What is the value of x in light years? \") \n",
    "x1 = float(prompt2)\n",
    "prompt3 = input(\"What is the value of the speed v as a fraction of the speed of light c? \")\n",
    "a1 = float(prompt3)\n",
    "t1 = time(x1,a1)"
   ]
  },
  {
   "cell_type": "code",
   "execution_count": 74,
   "metadata": {},
   "outputs": [
    {
     "name": "stdout",
     "output_type": "stream",
     "text": [
      "\n",
      " The time that the spaceship takes to reach a planet 10 light-years away with v = 0.99c in rest frame of an observer on Earth is 10.10 years, and as perceived by a passenger on board the ship is 1.42 years.\n"
     ]
    }
   ],
   "source": [
    "#using the funtion time(x,a) to calculate the time traveled in both frames \n",
    "#for a planet 10 light-years away with v = 0.99c or a = 0.99 and x = 10\n",
    "\n",
    "x2 = 10\n",
    "a2 = 0.99\n",
    "t2 = time(x2,a2)"
   ]
  },
  {
   "cell_type": "markdown",
   "metadata": {},
   "source": [
    "The time that the spaceship takes to reach a planet 10 light-years away with v = 0.99c in rest frame of an observer on Earth is 10.10 years, and as perceived by a passenger on board the ship is 1.42 years."
   ]
  },
  {
   "cell_type": "markdown",
   "metadata": {},
   "source": [
    "## Problem 3: The semi-empirical mass formula"
   ]
  },
  {
   "cell_type": "markdown",
   "metadata": {},
   "source": [
    "In nuclear physics, the semi-empirical mass formula calculates the approximate nuclear binding energy B of an atomic nucleus with atomic number Z and mass number A. The formula reads as:\n",
    "\n",
    "\\begin{equation*}\n",
    "B = a_1A - a_2A^{2/3} - a_3\\frac{Z^2}{A^{1/3}}\\ - a_4\\frac{(A-2Z)^2}{A}\\ + \\frac{a_5}{A^{1/2}}\\\n",
    "\\end{equation*}\n",
    "\n",
    "\n",
    "where (in units of millions of electron volts, MeV), the constants $a_1$ = 15.67, $a_2$ = 17.23, $a_3$ = 0.75, $a_4$ = 93.2, and\n",
    "\n",
    "\\begin{equation*}\n",
    "a_5 =\\begin{cases}\n",
    "0 & \\quad \\text{if }  \\text{A is odd,}\\\\\n",
    "12.0 & \\quad \\text{if }  \\text{A and Z are both even,}\\\\\n",
    "-12.0 & \\quad \\text{if }  \\text{A is even and Z is odd.}\n",
    " \\end{cases}\n",
    "\\end{equation*}"
   ]
  },
  {
   "cell_type": "code",
   "execution_count": 76,
   "metadata": {},
   "outputs": [],
   "source": [
    "#constant\n",
    "a1 = 15.67\n",
    "a2 = 17.23\n",
    "a3 = 0.75\n",
    "a4 = 93.2"
   ]
  },
  {
   "cell_type": "code",
   "execution_count": 109,
   "metadata": {},
   "outputs": [],
   "source": [
    "#function accepts A and Z as variables \n",
    "#then check if A, Z are odd or even to choose an appropriate constant a5\n",
    "#then using the given function to calculate the approximate nuclear binding energy B\n",
    "#and binding energy per nucleon \n",
    "#finally, print out the answer and return B\n",
    "\n",
    "def binding(A,Z):\n",
    "    #check if A, Z are odd or even to choose to a constant a5\n",
    "    if (A&1) == 1:\n",
    "        a5 = 0\n",
    "    else:\n",
    "        if (Z&1) == 1:\n",
    "            a5 = -12.0\n",
    "        else: \n",
    "            a5 = 12.0\n",
    "            \n",
    "    #calculate B and B_nucleon\n",
    "    B = a1*A - a2*A**(2/3) - a3*Z**2/A**(1/3) - a4*(A-2*Z)**2/A + a5/A**(1/2)\n",
    "    B_nucleon = B/A\n",
    "    \n",
    "    print(\"Given A=%i & Z=%i, the binding energy B for the corresponding atom is %.2f MeV, and the binding energy per nucleon is %.2f MeV\" % (A,Z,B,B_nucleon))\n",
    "    return B"
   ]
  },
  {
   "cell_type": "code",
   "execution_count": 110,
   "metadata": {},
   "outputs": [
    {
     "name": "stdout",
     "output_type": "stream",
     "text": [
      "Consider an atomic nucleus:\n",
      "What is the value of mass number A? 28\n",
      "What is the value of atomic number Z? 31\n",
      "Given A=28 & Z=31, the binding energy B for the corresponding atom is -3807.57 MeV, and the binding energy per nucleon is -135.98 MeV\n"
     ]
    }
   ],
   "source": [
    "#ask user to input desire value of mass number A and atomic number Z\n",
    "#using the function binding(A,Z) to calculate \n",
    "#and print out the binding energy B and the binding energy per nucleon B_nucleon\n",
    "\n",
    "print(\"Consider an atomic nucleus:\")\n",
    "prompt4 = input(\"What is the value of mass number A? \") \n",
    "A1 = int(prompt4)\n",
    "prompt5 = input(\"What is the value of atomic number Z? \")\n",
    "Z1 = int(prompt5)\n",
    "B1 = binding(A1,Z1)"
   ]
  },
  {
   "cell_type": "code",
   "execution_count": 112,
   "metadata": {},
   "outputs": [
    {
     "name": "stdout",
     "output_type": "stream",
     "text": [
      "Given A=58 & Z=28, the binding energy B for the corresponding atom is 493.94 MeV, and the binding energy per nucleon is 8.52 MeV\n"
     ]
    }
   ],
   "source": [
    "A2 = 58\n",
    "Z2 = 28\n",
    "B2 = binding(A2,Z2)"
   ]
  },
  {
   "cell_type": "markdown",
   "metadata": {},
   "source": [
    "Given A=58 & Z=28, the binding energy B for the corresponding atom is 493.94 MeV, and the binding energy per nucleon is 8.52 MeV"
   ]
  },
  {
   "cell_type": "code",
   "execution_count": null,
   "metadata": {},
   "outputs": [],
   "source": []
  }
 ],
 "metadata": {
  "kernelspec": {
   "display_name": "Python 3",
   "language": "python",
   "name": "python3"
  },
  "language_info": {
   "codemirror_mode": {
    "name": "ipython",
    "version": 3
   },
   "file_extension": ".py",
   "mimetype": "text/x-python",
   "name": "python",
   "nbconvert_exporter": "python",
   "pygments_lexer": "ipython3",
   "version": "3.8.5"
  }
 },
 "nbformat": 4,
 "nbformat_minor": 4
}
