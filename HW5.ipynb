{
 "cells": [
  {
   "cell_type": "markdown",
   "metadata": {},
   "source": [
    "## PHYS 6260: Homework 5, Mi Do"
   ]
  },
  {
   "cell_type": "code",
   "execution_count": 1,
   "metadata": {},
   "outputs": [],
   "source": [
    "import numpy as np\n",
    "%matplotlib inline\n",
    "import matplotlib.pyplot as plt"
   ]
  },
  {
   "cell_type": "markdown",
   "metadata": {},
   "source": [
    "## Problem 1: A circuit of resistors"
   ]
  },
  {
   "cell_type": "markdown",
   "metadata": {},
   "source": [
    "![alt text](pb105.JPG \"Circuit\")"
   ]
  },
  {
   "cell_type": "markdown",
   "metadata": {},
   "source": [
    "Consider the above circuit. All of the resistors have the same resistance $R$. The power rail at the top is at voltage $V_+ = 5$ V. To find the other four voltages marked in the circuit diagram, we use Ohm's law and the Kirchhoff junction law, which says that the total current into any junction must equal the total current out of the same junction, $\\sum_{i} I_{in,i}=\\sum_{i} I_{out,i}$. Thus, for the junction at voltage V_1, we have\n",
    "$$\\frac{V_1-V_2}R + \\frac{V_1-V_3}R+\\frac{V_1-V_4}R+\\frac{V_1-V_+}R = 0$$\n",
    "or equivalently\n",
    "$$4V_1-V_2-V_3-V_4 =V_+$$"
   ]
  },
  {
   "cell_type": "markdown",
   "metadata": {},
   "source": [
    "### Part (a)"
   ]
  },
  {
   "cell_type": "markdown",
   "metadata": {},
   "source": [
    "Similarly, we found equations for the other three junctions with unknown voltages:\n",
    "$$\\frac{V_2}R + \\frac{V_2-V_4}R+\\frac{V_2-V_1}R= 0 \\rightarrow 3V_2-V_1-V_4 =0$$\n",
    "$$\\frac{V_3-V_1}R + \\frac{V_3-V_4}R+\\frac{V_3-V_+}R= 0 \\rightarrow 3V_3-V_1-V_4=V_+$$\n",
    "$$\\frac{V_4}R + \\frac{V_4-V_2}R+\\frac{V_4-V_1}R+\\frac{V_4-V_3}R= 0 \\rightarrow 4V_4-V_1-V_2 -V_3 =0$$"
   ]
  },
  {
   "cell_type": "markdown",
   "metadata": {},
   "source": [
    "### Part (b)"
   ]
  },
  {
   "cell_type": "markdown",
   "metadata": {},
   "source": [
    "Using Gaussian elimination with backsubstition, we found the four voltages:"
   ]
  },
  {
   "cell_type": "code",
   "execution_count": 2,
   "metadata": {},
   "outputs": [
    {
     "name": "stdout",
     "output_type": "stream",
     "text": [
      "The four voltages are: V_1 = 3.00 V, V_2 = 1.67 V, V_3 = 3.33 V, V_4 = 2.00 V.\n"
     ]
    }
   ],
   "source": [
    "#initial the matrix and vector for Ax = v with x = (V1,V2,V3,V4)\n",
    "A = np.array([[4,-1,-1,-1],\n",
    "              [-1,3,0,-1],\n",
    "              [-1,0,3,-1],\n",
    "              [-1,-1,-1,4]], float)\n",
    "v = np.array([5,0,5,0], float)\n",
    "N = len(v)\n",
    "\n",
    "#using the code writing in class as a basis:\n",
    "#Gaussian elimination\n",
    "for m in range(N):\n",
    "    #divide by the diagonal element\n",
    "    diagonal = A[m,m]\n",
    "    A[m,:] = A[m,:] / diagonal\n",
    "    v[m] = v[m] / diagonal\n",
    "    # Now subtract from the lower rows \n",
    "    for i in range(m+1, N):\n",
    "        mul = A[i,m]\n",
    "        A[i,:] -= mul * A[m,:]\n",
    "        v[i] -= mul * v[m]\n",
    "# Backsubstitution \n",
    "x = np.empty(N, float)\n",
    "for m in range(N-1, -1, -1): \n",
    "    x[m] = v[m]\n",
    "    for i in range(m+1, N):\n",
    "        x[m] -= A[m, i]*x[i]\n",
    "    \n",
    "print(\"The four voltages are: V_1 = %.2f V, V_2 = %.2f V, V_3 = %.2f V, V_4 = %.2f V.\" %(x[0],x[1],x[2],x[3]))"
   ]
  },
  {
   "cell_type": "markdown",
   "metadata": {},
   "source": [
    "<font color='red'>Correct 8/8</font>"
   ]
  },
  {
   "cell_type": "markdown",
   "metadata": {},
   "source": [
    "## Problem 2: Asymmetric quantum well"
   ]
  },
  {
   "cell_type": "markdown",
   "metadata": {},
   "source": [
    "Quantum mechanics can be formlated as matrix problem and solves on a computer using linear algebra methods. Suppose, for example, we have a particle of mass $M$ in a 1D quantum well of width $L$, but not a square well like the examples you've probably seen before. Instead consider an arbitrary potential $V(x)$ that varies inside the well, like what's shown below. We cannot solve such problem analytically in general, but we can solve them using computational methods.\n",
    "![alt text](pb205.JPG \"Circuit\")"
   ]
  },
  {
   "cell_type": "markdown",
   "metadata": {},
   "source": [
    "In a pure state of energy E, the spatial part of the wave function obeys the time-independent Schrodinger equation $\\hat{H}$ is given by\n",
    "$$\\hat{H} = -\\frac{\\hbar^2}{2M} \\frac{d^2}{dx^2} + V(x)$$\n",
    "\n",
    "For simplicity, let's assume that the walls of the well are infinitely high, so that the wave function is zero outside the well, which means it must go to zero at $x=0$ and $z=L$. In that case, the wave function can be expressed as a Fourier sine series as \n",
    "\n",
    "$$\\psi(x) = \\sum_{n=1}^{\\infty}\\psi_{n}\\sin{\\frac{\\pi n x}{L}},$$\n",
    "\n",
    "where $\\psi_1, \\psi_2,...$ are the Fourier coefficients."
   ]
  },
  {
   "cell_type": "markdown",
   "metadata": {},
   "source": [
    "### Part (a)"
   ]
  },
  {
   "cell_type": "markdown",
   "metadata": {},
   "source": [
    "$$\\hat{H}\\psi=E\\psi\\rightarrow \\hat{H}\\sum_{n=1}^{\\infty}\\psi_{n}\\sin{\\frac{\\pi n x}{L}}=E \\sum_{n=1}^{\\infty}\\psi_{n}\\sin{\\frac{\\pi n x}{L}} $$\n",
    "Multiple both sides by $\\sin{\\frac{\\pi mx}{L}}$ and integrate from 0 to L:\n",
    "$$\\int_{0}^{L}\\hat{H}\\sum_{n=1}^{\\infty}\\psi_{n}\\sin{\\frac{\\pi n x}{L}}\\sin{\\frac{\\pi m x}{L}}dx = \\int_{0}^{L}E\\sum_{n=1}^{\\infty}\\psi_{n}\\sin{\\frac{\\pi n x}{L}}\\sin{\\frac{\\pi m x}{L}}dx$$ \n",
    "Or $$\\sum_{n=1}^{\\infty}\\psi_{n}\\int_{0}^{L}\\sin{\\frac{\\pi m x}{L}}\\hat{H}\\sin{\\frac{\\pi n x}{L}}dx = E\\sum_{n=1}^{\\infty}\\psi_{n}\\int_{0}^{L}\\sin{\\frac{\\pi n x}{L}}\\sin{\\frac{\\pi m x}{L}}dx$$ \n",
    "and\n",
    "$$\\int_{0}^{L}\\sin{\\frac{\\pi m x}{L}}\\sin{\\frac{\\pi n x}{L}} dx\n",
    "= \n",
    "\\begin{cases}\n",
    "\\frac{L}{2} & \\text{if}\\ m =n, \\\\\n",
    "0 & \\text{otherwise}\n",
    "\\end{cases}$$ \n",
    "So, on the right hand side, everything vanishes except m = n. Thus,\n",
    "$$\\sum_{n=1}^{\\infty}\\psi_{n}\\int_{0}^{L}\\sin{\\frac{\\pi m x}{L}}\\hat{H}\\sin{\\frac{\\pi n x}{L}}dx = \\frac{1}{2}LE\\psi_{m}$$ \n",
    "$$\\rightarrow \\sum_{n=1}^{\\infty}\\psi_{n}\\frac{2}{L}\\int_{0}^{L}\\sin{\\frac{\\pi m x}{L}}\\hat{H}\\sin{\\frac{\\pi n x}{L}}dx = E\\psi_{m}$$\n",
    "Hence, defining a matrix **H** with elements\n",
    "$$H_{mn} = \\frac{2}{L}\\int_{0}^{L}\\sin \\frac{\\pi m x}{L}\\hat{H}\\sin\\frac{\\pi n x}{L}dx \n",
    "= \\frac{2}{L}\\int_{0}^{L}\\sin \\frac{\\pi m x}{L}\\bigg[-\\frac{\\hbar^2}{2M}\\frac{d^2}{dx^2} + V(x)\\bigg]\\sin\\frac{\\pi n x}{L}dx$$\n",
    "The Schrodinger's equation can be written in matrix form as **H**$\\psi = E\\psi$, where $\\psi$ is the vector ($\\psi_1, \\psi_2,...$). Thus $\\psi$ is an eigenvector of the *Hamiltonian matrix* **H** with an eigenvalue *E*. If we calculate the eigenvalues of this matrix, then we know the allowed energies of the particle in the well."
   ]
  },
  {
   "cell_type": "markdown",
   "metadata": {},
   "source": [
    "### Part (b)"
   ]
  },
  {
   "cell_type": "markdown",
   "metadata": {},
   "source": [
    "For the case $V(x) = ax/L$:\n",
    "$$H_{mn} = \\frac{2}{L}\\int_{0}^{L}\\sin\\frac{\\pi m x}{L}\\bigg[-\\frac{\\hbar^2}{2M}\\frac{d^2}{dx^2} + \\frac{ax}{L}\\bigg]\\sin\\frac{\\pi n x}{L}dx = \\frac{2}{L}\\int_{0}^{L}\\sin\\frac{\\pi m x}{L}\\bigg[-\\frac{\\hbar^2}{2M}\\frac{d^2}{dx^2} \\bigg]\\sin\\frac{\\pi n x}{L}dx +\\frac{2}{L}\\int_{0}^{L}\\sin\\frac{\\pi m x}{L}\\frac{ax}{L}\\sin\\frac{\\pi n x}{L}dx$$\n",
    "but \n",
    "$$-\\frac{\\hbar^2}{2M}\\frac{d^2}{dx^2}\\sin\\frac{\\pi nx}{L}=-\\frac{\\hbar^2}{2M}\\frac{d}{dx} \\cos\\frac{\\pi nx}{L}\\frac{\\pi n}{L}=\\frac{\\hbar^2}{2M}\\sin\\frac{\\pi nx}{L}\\frac{\\pi^2 n^2}{L^2}$$\n",
    "So, \n",
    "$$H_{mn}=\\frac{\\hbar^2\\pi^2 n^2 }{ML^3} \\int_{0}^{L}\\sin\\frac{\\pi m x}{L}\\sin\\frac{\\pi n x}{L}dx + \\frac{2a}{L^2}\\int_{0}^{L}x \\sin\\frac{\\pi m x}{L}\\sin\\frac{\\pi n x}{L}dx $$\n",
    "\n",
    "Using the given integral results: \n",
    "\n",
    "$$\\int_{0}^{L}\\sin{\\frac{\\pi m x}{L}}\\sin{\\frac{\\pi n x}{L}} dx\n",
    "= \n",
    "\\begin{cases}\n",
    "\\frac{L}{2} & \\text{if}\\ m =n, \\\\\n",
    "0 & \\text{otherwise}\n",
    "\\end{cases}$$ \n",
    "and\n",
    "$$\\int_{0}^{L}x\\sin{\\frac{\\pi mx}{L}}\\sin{\\frac{\\pi nx}{L}}dx \n",
    "= \n",
    "\\begin{cases}\n",
    "0 & \\text{if}\\ m \\neq n, \\text{and}\\ m , n \\text{ are both even or both odd}\\\\\n",
    "-\\big(\\frac{2L}{\\pi}\\big)^2 \\frac{mn}{(m^2 - n^2)^2} & \\text{if}\\ m \\neq n \\text{ and one is even, one is odd,} \\\\\n",
    "{L^2}/4 & \\text{if}\\ m = n \n",
    "\\end{cases}\n",
    "$$ \n",
    "We found a general expression for the matrix element $H_{mn}$ as\n",
    "$$H_{mn}=\n",
    "\\begin{cases}\n",
    "0 & \\text{if}\\ m \\neq n, \\text{and}\\ m , n \\text{ are both even or both odd}\\\\\n",
    "-\\frac{8a}{\\pi^2}\\frac{mn}{(m^2 - n^2)^2} & \\text{if}\\ m \\neq n \\text{ and one is even, one is odd,} \\\\\n",
    "\\frac{\\hbar^2\\pi^2 n^2 }{2ML^2} +\\frac{a}{2}& \\text{if}\\ m = n \n",
    "\\end{cases}\n",
    "$$ \n",
    "So, the matrix is real and symmetric. This can be showed by an example of 4x4 matrix:\n",
    "\\begin{equation}\n",
    "H_{mn} =\n",
    "\\begin{bmatrix}\n",
    "    \\frac{\\hbar^2\\pi^2 n^2 }{2ML^2} +\\frac{a}{2} & -\\frac{8a}{\\pi^2}\\frac{mn}{(m^2 - n^2)^2} & 0 & -\\frac{8a}{\\pi^2}\\frac{mn}{(m^2 - n^2)^2}\\\\\n",
    "    -\\frac{8a}{\\pi^2}\\frac{mn}{(m^2 - n^2)^2} & \\frac{\\hbar^2\\pi^2 n^2 }{2ML^2} +\\frac{a}{2} & -\\frac{8a}{\\pi^2}\\frac{mn}{(m^2 - n^2)^2} & 0\\\\\n",
    "    0 & -\\frac{8a}{\\pi^2}\\frac{mn}{(m^2 - n^2)^2} & \\frac{\\hbar^2\\pi^2 n^2 }{2ML^2} +\\frac{a}{2} & -\\frac{8a}{\\pi^2}\\frac{mn}{(m^2 - n^2)^2}\\\\\n",
    "    -\\frac{8a}{\\pi^2}\\frac{mn}{(m^2 - n^2)^2} & 0 & -\\frac{8a}{\\pi^2}\\frac{mn}{(m^2 - n^2)^2} & \\frac{\\hbar^2\\pi^2 n^2 }{2ML^2} +\\frac{a}{2}\\\\\n",
    "\\end{bmatrix}\n",
    "\\end{equation}"
   ]
  },
  {
   "cell_type": "code",
   "execution_count": 3,
   "metadata": {},
   "outputs": [],
   "source": [
    "# constants \n",
    "hbar = 6.5821e-16 #eVs\n",
    "L = 5e-10 #m\n",
    "a = 10 #eV\n",
    "M = 9.1094e-31 #kg\n",
    "e = 1.6022e-19 #C"
   ]
  },
  {
   "cell_type": "code",
   "execution_count": 4,
   "metadata": {},
   "outputs": [],
   "source": [
    "# evaluate H_mn for arbitrary m and n\n",
    "def h(m,n):\n",
    "    if m == n:\n",
    "        return e*(hbar*np.pi*n)**2/(2*M*L**2) + a/2\n",
    "    elif not(m%2 == n%2):\n",
    "        return -(8*m*n*a) / ((np.pi**2)*(m**2-n**2)**2)\n",
    "    else:\n",
    "        return 0"
   ]
  },
  {
   "cell_type": "markdown",
   "metadata": {},
   "source": [
    "### Part (c)"
   ]
  },
  {
   "cell_type": "code",
   "execution_count": 5,
   "metadata": {},
   "outputs": [
    {
     "name": "stdout",
     "output_type": "stream",
     "text": [
      "The first ten energy levels of the quantum well are:\n",
      "5.836eV, 11.181eV, 18.663eV, 29.144eV, 42.655eV, 59.186eV, 78.73eV, 101.286eV, 126.852eV, 155.556eV."
     ]
    }
   ],
   "source": [
    "N = 10\n",
    "H = np.empty([N,N])\n",
    "for m in range(N):\n",
    "    for n in range(N):\n",
    "        H[m, n] = h(m+1,n+1)\n",
    "\n",
    "eigenv, eigenvec = np.linalg.eigh(H)\n",
    "print(\"The first ten energy levels of the quantum well are:\")\n",
    "print(*np.round(eigenv,3), sep=\"eV, \", end=\"eV.\")"
   ]
  },
  {
   "cell_type": "markdown",
   "metadata": {},
   "source": [
    "### Part (d)"
   ]
  },
  {
   "cell_type": "code",
   "execution_count": 6,
   "metadata": {
    "scrolled": true
   },
   "outputs": [
    {
     "name": "stdout",
     "output_type": "stream",
     "text": [
      "The first ten energy levels of the quantum well are:\n",
      "5.836eV, 11.181eV, 18.663eV, 29.144eV, 42.655eV, 59.186eV, 78.73eV, 101.286eV, 126.851eV, 155.427eV."
     ]
    }
   ],
   "source": [
    "N1 = 100\n",
    "H1 = np.empty([N1,N1])\n",
    "for m1 in range(N1):\n",
    "    for n1 in range(N1):\n",
    "        H1[m1, n1] = h(m1+1,n1+1)\n",
    "\n",
    "eigenv1, eigenvec1 = np.linalg.eigh(H1)\n",
    "print(\"The first ten energy levels of the quantum well are:\")\n",
    "print(*np.round(eigenv1[:10],3), sep=\"eV, \", end=\"eV.\")"
   ]
  },
  {
   "cell_type": "markdown",
   "metadata": {},
   "source": [
    "Comparing with the values in part (c), the eigenvalues match until n = 9, which in part c is 126.852 compare to 126.851 in part d. And, for n = 10, the eigenvalues is off all fractional part. So, I think the accuracy of this calculation is acceptable but not too high."
   ]
  },
  {
   "cell_type": "markdown",
   "metadata": {},
   "source": [
    "<font color='red'>Correct 16/16</font>"
   ]
  },
  {
   "cell_type": "markdown",
   "metadata": {},
   "source": [
    "## Problem 3: Biochemical equilibrium points"
   ]
  },
  {
   "cell_type": "markdown",
   "metadata": {},
   "source": [
    "The Biochemical proces of $glycolysis$, the breakdown of glucose in the body to release energy, can be modeled by the equations\n",
    "$$\\frac{dx}{dt}=-x+ay+x^2y, \\frac{dy}{dt}=b-ay-x^2y$$ \n",
    "Here x and y represent concentrations of two chemicals, ADP and F6P, and a and b are postitive constants. One of the important features of nonlinear equations like these is their $stationary$ $points$, meaning values x and y at which the derivatives of both variables become zero simultaneously, so that the variables stop changing and become constant in time. Setting the derivatives to zero above, the stationary points of our glycolysis equations are the following solutions:\n",
    "$$-x+ay+x^2y=0, b -ay-x^2y=0$$"
   ]
  },
  {
   "cell_type": "markdown",
   "metadata": {},
   "source": [
    "### Part (a)"
   ]
  },
  {
   "cell_type": "markdown",
   "metadata": {},
   "source": [
    "We have \n",
    "$$b-ay-x^2y=0 \\rightarrow ay+x^2y=b$$ \n",
    "and $$-x+ay+x^2y=0 \\rightarrow x = ay+x^2y=b$$\n",
    "$$b-ay-x^2y=0 \\rightarrow b-ay-b^2y=0 \\rightarrow y(a+b^2)=b \\rightarrow y =\\frac{b}{a+b^2}$$\n",
    "Therefore, the solution of the above equations are:\n",
    "$$x=b, y = \\frac{b}{a+b^2}$$"
   ]
  },
  {
   "cell_type": "markdown",
   "metadata": {},
   "source": [
    "### Part (b)"
   ]
  },
  {
   "cell_type": "markdown",
   "metadata": {},
   "source": [
    "$$x=ay+x^2y=y(a+x^2)$$\n",
    "$$x=b \\rightarrow y = \\frac{b}{a+b^2}=\\frac{b}{a+x^2}$$"
   ]
  },
  {
   "cell_type": "code",
   "execution_count": 8,
   "metadata": {},
   "outputs": [],
   "source": [
    "a = 1\n",
    "b = 2\n",
    "accuracy = 1e-6\n",
    "point = 1000"
   ]
  },
  {
   "cell_type": "code",
   "execution_count": 12,
   "metadata": {},
   "outputs": [
    {
     "ename": "KeyboardInterrupt",
     "evalue": "",
     "output_type": "error",
     "traceback": [
      "\u001b[0;31m---------------------------------------------------------------------------\u001b[0m",
      "\u001b[0;31mKeyboardInterrupt\u001b[0m                         Traceback (most recent call last)",
      "\u001b[0;32m<ipython-input-12-a0da49766868>\u001b[0m in \u001b[0;36m<module>\u001b[0;34m\u001b[0m\n\u001b[1;32m     22\u001b[0m     \u001b[0;32mreturn\u001b[0m \u001b[0;34m[\u001b[0m\u001b[0mx2\u001b[0m\u001b[0;34m,\u001b[0m\u001b[0my2\u001b[0m\u001b[0;34m]\u001b[0m\u001b[0;34m\u001b[0m\u001b[0;34m\u001b[0m\u001b[0m\n\u001b[1;32m     23\u001b[0m \u001b[0;34m\u001b[0m\u001b[0m\n\u001b[0;32m---> 24\u001b[0;31m \u001b[0mpoints\u001b[0m\u001b[0;34m(\u001b[0m\u001b[0mf\u001b[0m\u001b[0;34m,\u001b[0m\u001b[0mg\u001b[0m\u001b[0;34m)\u001b[0m\u001b[0;34m\u001b[0m\u001b[0;34m\u001b[0m\u001b[0m\n\u001b[0m",
      "\u001b[0;32m<ipython-input-12-a0da49766868>\u001b[0m in \u001b[0;36mpoints\u001b[0;34m(f, g)\u001b[0m\n\u001b[1;32m     19\u001b[0m             \u001b[0mx1\u001b[0m\u001b[0;34m,\u001b[0m \u001b[0mx2\u001b[0m\u001b[0;34m,\u001b[0m \u001b[0my1\u001b[0m\u001b[0;34m,\u001b[0m \u001b[0my2\u001b[0m \u001b[0;34m=\u001b[0m \u001b[0mx2\u001b[0m\u001b[0;34m,\u001b[0m \u001b[0mf\u001b[0m\u001b[0;34m(\u001b[0m\u001b[0mx2\u001b[0m\u001b[0;34m,\u001b[0m \u001b[0my2\u001b[0m\u001b[0;34m)\u001b[0m\u001b[0;34m,\u001b[0m \u001b[0my2\u001b[0m\u001b[0;34m,\u001b[0m \u001b[0mg\u001b[0m\u001b[0;34m(\u001b[0m\u001b[0mx2\u001b[0m\u001b[0;34m,\u001b[0m \u001b[0my2\u001b[0m\u001b[0;34m)\u001b[0m\u001b[0;34m\u001b[0m\u001b[0;34m\u001b[0m\u001b[0m\n\u001b[1;32m     20\u001b[0m             \u001b[0merror1\u001b[0m \u001b[0;34m=\u001b[0m \u001b[0mabs\u001b[0m\u001b[0;34m(\u001b[0m\u001b[0;34m(\u001b[0m\u001b[0mx1\u001b[0m \u001b[0;34m-\u001b[0m \u001b[0mx2\u001b[0m\u001b[0;34m)\u001b[0m \u001b[0;34m/\u001b[0m \u001b[0;34m(\u001b[0m\u001b[0;36m2\u001b[0m\u001b[0;34m*\u001b[0m\u001b[0mx2\u001b[0m\u001b[0;34m*\u001b[0m\u001b[0my2\u001b[0m\u001b[0;34m)\u001b[0m\u001b[0;34m)\u001b[0m\u001b[0;34m\u001b[0m\u001b[0;34m\u001b[0m\u001b[0m\n\u001b[0;32m---> 21\u001b[0;31m             \u001b[0merror2\u001b[0m \u001b[0;34m=\u001b[0m \u001b[0mabs\u001b[0m\u001b[0;34m(\u001b[0m\u001b[0;34m(\u001b[0m\u001b[0my1\u001b[0m \u001b[0;34m-\u001b[0m \u001b[0my2\u001b[0m\u001b[0;34m)\u001b[0m \u001b[0;34m/\u001b[0m \u001b[0;34m(\u001b[0m\u001b[0;34m-\u001b[0m\u001b[0;36m2\u001b[0m\u001b[0;34m*\u001b[0m\u001b[0mb\u001b[0m\u001b[0;34m*\u001b[0m\u001b[0mx2\u001b[0m \u001b[0;34m/\u001b[0m \u001b[0;34m(\u001b[0m\u001b[0ma\u001b[0m \u001b[0;34m+\u001b[0m \u001b[0mx2\u001b[0m \u001b[0;34m**\u001b[0m \u001b[0;36m2\u001b[0m\u001b[0;34m)\u001b[0m\u001b[0;34m**\u001b[0m\u001b[0;36m2\u001b[0m\u001b[0;34m)\u001b[0m\u001b[0;34m)\u001b[0m\u001b[0;34m\u001b[0m\u001b[0;34m\u001b[0m\u001b[0m\n\u001b[0m\u001b[1;32m     22\u001b[0m     \u001b[0;32mreturn\u001b[0m \u001b[0;34m[\u001b[0m\u001b[0mx2\u001b[0m\u001b[0;34m,\u001b[0m\u001b[0my2\u001b[0m\u001b[0;34m]\u001b[0m\u001b[0;34m\u001b[0m\u001b[0;34m\u001b[0m\u001b[0m\n\u001b[1;32m     23\u001b[0m \u001b[0;34m\u001b[0m\u001b[0m\n",
      "\u001b[0;31mKeyboardInterrupt\u001b[0m: "
     ]
    }
   ],
   "source": [
    "# using the relaxation method with a = 1 and b = 2\n",
    "# x = f(x,y)\n",
    "def f(x, y):\n",
    "    return y * (a + x ** 2)\n",
    "\n",
    "# y = g(x,y)\n",
    "def g(x, y):\n",
    "    return b / (a + x ** 2)\n",
    "\n",
    "def points(f, g):\n",
    "    for i in range(point):\n",
    "        x1 = 0.1\n",
    "        y1 = 0.1\n",
    "        x2 = f(x1, y1)\n",
    "        y2 = g(x1, y1)\n",
    "        error1 = 1.0\n",
    "        error2 = 1.0\n",
    "        while abs(error1) > accuracy and abs(error2) > accuracy:\n",
    "            x1, x2, y1, y2 = x2, f(x2, y2), y2, g(x2, y2)\n",
    "            error1 = abs((x1 - x2) / (2*x2*y2))\n",
    "            error2 = abs((y1 - y2) / (-2*b*x2 / (a + x2 ** 2)**2))\n",
    "    return [x2,y2]\n",
    "\n",
    "points(f,g)"
   ]
  },
  {
   "cell_type": "markdown",
   "metadata": {},
   "source": [
    "The method fails to converge to a solution in this case because the absolute value of the derivative is greater than one, which means we're getting farther from the solution on each step. So, it never converges."
   ]
  },
  {
   "cell_type": "markdown",
   "metadata": {},
   "source": [
    "### Part (c)"
   ]
  },
  {
   "cell_type": "code",
   "execution_count": 13,
   "metadata": {},
   "outputs": [
    {
     "data": {
      "text/plain": [
       "[2.000132986847455, 0.3999841823386661]"
      ]
     },
     "execution_count": 13,
     "metadata": {},
     "output_type": "execute_result"
    }
   ],
   "source": [
    "# So, we need to rearrange the equations such that the absolute value of the derivative is less than one.\n",
    "def f2(x, y):\n",
    "    return np.sqrt(b / y - a)\n",
    "\n",
    "\n",
    "def g2(x, y):\n",
    "    return x / (a + x ** 2)\n",
    "\n",
    "def points2(f, g):\n",
    "    for i in range(point):\n",
    "        x1 = 0.1\n",
    "        y1 = 0.1\n",
    "        x2 = f(x1, y1)\n",
    "        y2 = g(x1, y1)\n",
    "        error1 = 1.0\n",
    "        error2 = 1.0\n",
    "        while abs(error1) > accuracy and abs(error2) > accuracy:\n",
    "            x1, x2, y1, y2 = x2, f(x2, y2), y2, g(x2, y2)\n",
    "            error1 = abs((x1 - x2) / (-b/(2*y2**2*np.sqrt(b/y-a))))\n",
    "            error2 = abs((y1 - y2) / (x / ((a-x**2)/(a + x ** 2)**2)))\n",
    "    return [x2,y2]\n",
    "\n",
    "points(f2,g2)"
   ]
  },
  {
   "cell_type": "code",
   "execution_count": 331,
   "metadata": {},
   "outputs": [
    {
     "name": "stdout",
     "output_type": "stream",
     "text": [
      "The solutions are x2 = 2.00, y2 = 0.40 . Compare to part a, which x = 2.00 and y = 0.40, the result agrees with part a.\n"
     ]
    }
   ],
   "source": [
    "x2, y2 = points(f2,g2)\n",
    "y = b/(a+b**2)\n",
    "print(\"The solutions are x2 = %.2f, y2 = %.2f . Compare to part a, which x = %.2f and y = %.2f, the result agrees with part a.\" %(x2,y2,b,y))"
   ]
  },
  {
   "cell_type": "markdown",
   "metadata": {},
   "source": [
    "<font color='red'>I'm not really sure why you run two loops here. You're looping through iterations on x and y in the `for` loop for a maximum of 1000 points. That's reasonable. But what's the inner while loop? 6/8</font>"
   ]
  },
  {
   "cell_type": "markdown",
   "metadata": {},
   "source": [
    "## Problem 4: The Lagrange point"
   ]
  },
  {
   "cell_type": "markdown",
   "metadata": {},
   "source": [
    "There exists a point between the Earth and the Moon, called the $L_1$ Lagrange point, at which a satellite wil orbit the Earth in perfect synchrony with the Moon, staying always between the two. This works because the inward pull of the Earth and the outward pull of the Moon combine to create exactly the needed centripetal force that keeps the satellite in its orbit, as shown below.\n",
    "![alt text](pb405.JPG \"EM\")"
   ]
  },
  {
   "cell_type": "markdown",
   "metadata": {},
   "source": [
    "### Part (a)"
   ]
  },
  {
   "cell_type": "markdown",
   "metadata": {},
   "source": [
    "Assuming circular orbits and that the Rarth is much more massive than either the Moon or the satellite. \n",
    "Let $M$ and $m$ are the Earth and Moon masses, $G$ is Newton's gravitational constant, and $\\omega$ is the angular velocity of both the Moon and satellite. Since the inward pull of the Earth and the outward pull of the Moon combine to create exactly the needed centripetal force that keeps the satellite in its orbit, we have\n",
    "$$\\vec{F_M}+\\vec{F_m}=\\vec{F}_{centripetal}$$\n",
    "$$\\frac{GMm_S}{r^2}-\\frac{Gmm_S}{(R-r)^2}=\\frac{v^2m_S}{r}$$\n",
    "and $v = \\omega r$. Thus,\n",
    "$$\\frac{GM}{r^2}-\\frac{Gm}{(R-r)^2}=\\omega^2r$$"
   ]
  },
  {
   "cell_type": "markdown",
   "metadata": {},
   "source": [
    "### Part (b)"
   ]
  },
  {
   "cell_type": "code",
   "execution_count": 332,
   "metadata": {},
   "outputs": [],
   "source": [
    "# Various constants and parameters in the system\n",
    "G = 6.674e-11 #m^3kg^-1s^-2 \n",
    "M = 5.974e24 #kg\n",
    "m = 7.348e22 #kg \n",
    "R = 3.844e8 #m \n",
    "w = 2.662e-6 #s^-1   "
   ]
  },
  {
   "cell_type": "code",
   "execution_count": 333,
   "metadata": {},
   "outputs": [
    {
     "name": "stdout",
     "output_type": "stream",
     "text": [
      "The distance r from Earth to L1 is 3.26045e+08 m\n"
     ]
    }
   ],
   "source": [
    "# using Mathematica, I found out the solution is 3.260*10^8 m\n",
    "# so, my initial values are 2*10^7 and 4*10^9 for the secant method\n",
    "\n",
    "# To avoid the divided by 0 float from the orginal equation, \n",
    "# I get rid of the deniminator by multiple both sides for r^2(R-r)^2\n",
    "def f(r): \n",
    "    return G*M*(R-r)**2 - G*m*r**2 - omega**2*r**3*(R-r)**2\n",
    "\n",
    "def solve(): \n",
    "    r1 = 2.0e7\n",
    "    r2 = 4.0e9\n",
    "    delta = 1\n",
    "    \n",
    "    while abs(delta)>accuracy:\n",
    "        delta = f(r2) * (r2-r1)/(f(r2)-f(r1))\n",
    "        r3 = r2 - f(r2)*(r2-r1)/(f(r2)-f(r1))\n",
    "        r1 = r2\n",
    "        r2 = r3\n",
    "     \n",
    "    return r3\n",
    "\n",
    "print(\"The distance r from Earth to L1 is %.6g m\" %solve())"
   ]
  },
  {
   "cell_type": "markdown",
   "metadata": {},
   "source": [
    "<font color='red'>Correct 8/8</font>"
   ]
  },
  {
   "cell_type": "code",
   "execution_count": null,
   "metadata": {},
   "outputs": [],
   "source": []
  }
 ],
 "metadata": {
  "kernelspec": {
   "display_name": "Python 3",
   "language": "python",
   "name": "python3"
  },
  "language_info": {
   "codemirror_mode": {
    "name": "ipython",
    "version": 3
   },
   "file_extension": ".py",
   "mimetype": "text/x-python",
   "name": "python",
   "nbconvert_exporter": "python",
   "pygments_lexer": "ipython3",
   "version": "3.8.5"
  }
 },
 "nbformat": 4,
 "nbformat_minor": 4
}
