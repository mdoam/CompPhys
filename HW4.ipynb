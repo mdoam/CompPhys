{
 "cells": [
  {
   "cell_type": "markdown",
   "metadata": {},
   "source": [
    "## PHYS 6260: Homework 4"
   ]
  },
  {
   "cell_type": "code",
   "execution_count": 1,
   "metadata": {},
   "outputs": [],
   "source": [
    "import numpy as np\n",
    "%matplotlib inline\n",
    "import matplotlib.pyplot as plt"
   ]
  },
  {
   "cell_type": "code",
   "execution_count": 3,
   "metadata": {},
   "outputs": [],
   "source": [
    "from gaussxw import gaussxwab\n",
    "from scipy import constants"
   ]
  },
  {
   "cell_type": "markdown",
   "metadata": {},
   "source": [
    "## Problem 1: Adaptive integration"
   ]
  },
  {
   "cell_type": "markdown",
   "metadata": {},
   "source": [
    "Consider the integral:\n",
    "\n",
    "$$I = \\int_{0}^{1}\\sin^2{\\sqrt{100x}} \\,dx $$"
   ]
  },
  {
   "cell_type": "code",
   "execution_count": 4,
   "metadata": {},
   "outputs": [],
   "source": [
    "# function\n",
    "def I(x):\n",
    "    return (np.sin(np.sqrt(100*x)))**2"
   ]
  },
  {
   "cell_type": "code",
   "execution_count": 5,
   "metadata": {},
   "outputs": [],
   "source": [
    "# integral limit\n",
    "a = 0\n",
    "b = 1\n",
    "n1 = 1\n",
    "accuracy = 0.000001"
   ]
  },
  {
   "cell_type": "markdown",
   "metadata": {},
   "source": [
    "### Part (a)"
   ]
  },
  {
   "cell_type": "markdown",
   "metadata": {},
   "source": [
    "This program uses the adaptive trapezoidal rule method to calculate the value of the above integral to an approximate accuracy of $\\epsilon = 10^{-6}$. First, we choose a small number of step $N_1 = 1$ and evaluate the integral. Then, we double the number to $N_{i+1} = 2N_{i}$, evaluate the integral again using (5.34): \n",
    "$$I_i = \\frac{1}{2}I_{i-1} + h_i\\sum_{1...N_{i-1}}^{k_{odd}} f(a+kh_i) $$\n",
    "and apply the equation (5.30) to calculate error:\n",
    "$$\\epsilon_i = \\frac{1}{3}\\times (I_i - I_{i-1})$$\n",
    "The program also prints out the number of slices, its estimate of the integral, and its estimate of the error on the integral, for each value of the number of slices N, until reaching the target accuracy. "
   ]
  },
  {
   "cell_type": "code",
   "execution_count": 6,
   "metadata": {},
   "outputs": [],
   "source": [
    "# regular trapezoidal rule method\n",
    "# function accept the integral function, slice, lower and upper limit as variable\n",
    "# return estimated integral\n",
    "def trap(I,n):\n",
    "    h = (b-a)/n\n",
    "    integral = 0.5*I(a) + 0.5*I(b)\n",
    "    for i in range(1,n):\n",
    "        integral += I(a + i*h)\n",
    "    return integral*h"
   ]
  },
  {
   "cell_type": "code",
   "execution_count": 8,
   "metadata": {},
   "outputs": [],
   "source": [
    "# adaptive trapezoidal rule method\n",
    "# function accept the integral function, previous number of slices and its estimate integral as variable\n",
    "# calculate the new estimated integral with double slice and error\n",
    "# compare error to the required accuracy\n",
    "# if reach target return the slices number, otherwise continue calculate\n",
    "\n",
    "def adap_trap(I,n,I1,accuracy):\n",
    "    n2 = 2*n # double slices\n",
    "    h2 = (b-a)/n2\n",
    "    \n",
    "    #using equation (5.34) to calculate new estimate integral\n",
    "    I2 = 0.5*I1\n",
    "\n",
    "    m = 0\n",
    "    for l in range(1,n2,2):\n",
    "        m += I(a + l*h2)\n",
    "    I2 += h2*m\n",
    "    \n",
    "    #using equation (5.30) to calculate error\n",
    "    error = 1/3 * (I2-I1)\n",
    "    print(\"Number of slices: %i, estimate of the integral: I = %.7f, estimate of the error on the integral: %e\" %(n2,I2,abs(error)))\n",
    "    \n",
    "    #compare to target accuracy\n",
    "    if abs(error) < accuracy:\n",
    "        return 'To reach the target accuracy, we need to use %i slices' %n2\n",
    "    else:\n",
    "        return adap_trap(I,n2,I2,accuracy)"
   ]
  },
  {
   "cell_type": "code",
   "execution_count": 9,
   "metadata": {
    "scrolled": true
   },
   "outputs": [
    {
     "name": "stdout",
     "output_type": "stream",
     "text": [
      "Initial slice: N = 1 has I = 0.147979\n",
      "Number of slices: 2, estimate of the integral: I = 0.3252319, estimate of the error on the integral: 5.908414e-02\n",
      "Number of slices: 4, estimate of the integral: I = 0.5122829, estimate of the error on the integral: 6.235031e-02\n",
      "Number of slices: 8, estimate of the integral: I = 0.4029974, estimate of the error on the integral: 3.642847e-02\n",
      "Number of slices: 16, estimate of the integral: I = 0.4301034, estimate of the error on the integral: 9.035307e-03\n",
      "Number of slices: 32, estimate of the integral: I = 0.4484147, estimate of the error on the integral: 6.103765e-03\n",
      "Number of slices: 64, estimate of the integral: I = 0.4539129, estimate of the error on the integral: 1.832755e-03\n",
      "Number of slices: 128, estimate of the integral: I = 0.4553485, estimate of the error on the integral: 4.785244e-04\n",
      "Number of slices: 256, estimate of the integral: I = 0.4557113, estimate of the error on the integral: 1.209207e-04\n",
      "Number of slices: 512, estimate of the integral: I = 0.4558022, estimate of the error on the integral: 3.031107e-05\n",
      "Number of slices: 1024, estimate of the integral: I = 0.4558249, estimate of the error on the integral: 7.582827e-06\n",
      "Number of slices: 2048, estimate of the integral: I = 0.4558306, estimate of the error on the integral: 1.896023e-06\n",
      "Number of slices: 4096, estimate of the integral: I = 0.4558321, estimate of the error on the integral: 4.740255e-07\n"
     ]
    },
    {
     "data": {
      "text/plain": [
       "'To reach the target accuracy, we need to use 4096 slices'"
      ]
     },
     "execution_count": 9,
     "metadata": {},
     "output_type": "execute_result"
    }
   ],
   "source": [
    "I1 = trap(I,n1)\n",
    "print(\"Initial slice: N = 1 has I = %.6f\" %I1)\n",
    "adap_trap(I,n1,I1,accuracy)"
   ]
  },
  {
   "cell_type": "markdown",
   "metadata": {},
   "source": [
    "### Part (b)"
   ]
  },
  {
   "cell_type": "markdown",
   "metadata": {},
   "source": [
    "Using the Romberg integration technique to calculate the same integral. This method reaches the required accuracy considerably faster than the trapezoidal rule alone."
   ]
  },
  {
   "cell_type": "code",
   "execution_count": 10,
   "metadata": {},
   "outputs": [],
   "source": [
    "# using the standard trapezoidal rule to calculate I1\n",
    "R11 = trap(I,n1)\n",
    "# create the Romberg triangular table\n",
    "row = 1\n",
    "table = [[]]\n",
    "table[0].append(R11)"
   ]
  },
  {
   "cell_type": "code",
   "execution_count": 13,
   "metadata": {},
   "outputs": [],
   "source": [
    "# function accept row, accuracy, table, step = slice as variables\n",
    "# return the step needed to achieve target accuracy, otherwise continue calculate\n",
    "def romberg(I,row,accuracy,table,step):\n",
    "    row += 1\n",
    "    column = 1\n",
    "    step1 = 2*step\n",
    "    # using the standard trapezoidal rule to calculate R[i][1] and add to table\n",
    "    R_row1 = trap(I,step1)\n",
    "    table.append([R_row1])\n",
    "          \n",
    "    # find the more accurate estimate using (5.51) and error using (5.49)\n",
    "    # compare each error to desired accuracy to halt the program when reached\n",
    "    while column < row:\n",
    "        column += 1\n",
    "        err = 1/(4**(column-1)-1) * (table[row-1][column-2] - table[row-2][column-2])\n",
    "        if abs(err) < 0.000001:\n",
    "            return \"Reach the target accuracy at row = %i, column = %i, N = %d\" %(row,column-1, step1)\n",
    "        else:\n",
    "            R_rc = err + table[row-1][column-2]\n",
    "            table[row-1].append(R_rc)\n",
    "    return romberg(I,row,accuracy,table,step1)"
   ]
  },
  {
   "cell_type": "code",
   "execution_count": 14,
   "metadata": {},
   "outputs": [
    {
     "data": {
      "text/plain": [
       "'Reach the target accuracy at row = 7, column = 4, N = 64'"
      ]
     },
     "execution_count": 14,
     "metadata": {},
     "output_type": "execute_result"
    }
   ],
   "source": [
    "romberg(I,row,accuracy,table,n1)"
   ]
  },
  {
   "cell_type": "code",
   "execution_count": 15,
   "metadata": {},
   "outputs": [
    {
     "name": "stdout",
     "output_type": "stream",
     "text": [
      "The triangular table of Romberg estimates of the integral until reach target accuracy:\n",
      "[0.147979484546652]\n",
      "[0.3252319078064746, 0.38431604889308213, 0.38431604889308213]\n",
      "[0.5122828507233315, 0.5746331650289505, 0.5873209727713417, 0.5746331650289505, 0.5873209727713417]\n",
      "[0.40299744847824825, 0.3665689810632205, 0.35269803546550516, 0.34897386185747603, 0.3665689810632205, 0.35269803546550516, 0.34897386185747603]\n",
      "[0.43010336929474696, 0.4391386762335799, 0.44397665591160385, 0.4454255229028118, 0.4458037647108327, 0.4391386762335799, 0.44397665591160385, 0.4454255229028118, 0.4458037647108327]\n",
      "[0.4484146657874698, 0.4545184312850441, 0.45554374828847505, 0.45572735292937777, 0.4557677522628153, 0.4557774922310968, 0.4545184312850441, 0.45554374828847505, 0.45572735292937777, 0.4557677522628153, 0.4557774922310968]\n",
      "[0.45391293121537596, 0.4557456863580113, 0.4558275033628758, 0.45583200741167584, 0.4557456863580113, 0.4558275033628758, 0.45583200741167584]\n",
      "[0.3252319078064746]\n",
      "[0.5122828507233315]\n",
      "[0.40299744847824825]\n",
      "[0.43010336929474696]\n",
      "[0.4484146657874698]\n",
      "[0.45391293121537596]\n"
     ]
    }
   ],
   "source": [
    "table\n",
    "print('The triangular table of Romberg estimates of the integral until reach target accuracy:', *table, sep='\\n')"
   ]
  },
  {
   "cell_type": "markdown",
   "metadata": {},
   "source": [
    "<span style=\"color:red\">Correct 10/10</span>"
   ]
  },
  {
   "cell_type": "markdown",
   "metadata": {},
   "source": [
    "## Problem 2: Heat capacity of a solid"
   ]
  },
  {
   "cell_type": "markdown",
   "metadata": {},
   "source": [
    "Debye's theory of solids gives the heat capacity of a solid at temperature $T$ to be\n",
    "$$ C_V = 9V\\rho k_B \\left(\\frac{T}{\\theta_D}\\right)^3 \\int_{0}^{\\theta_D/T}\\frac{x^4 e^x}{(e^x - 1)^2} dx$$\n",
    "where $V$ is the volume of the solid, $\\rho$ is the number density of atoms, $k_b$ is Boltzmann's constant, and $\\theta_D$ is the $Debye$ $temperature$, a property of solids that depends on their density and sound speed."
   ]
  },
  {
   "cell_type": "markdown",
   "metadata": {},
   "source": [
    "### Part (a)"
   ]
  },
  {
   "cell_type": "code",
   "execution_count": 17,
   "metadata": {},
   "outputs": [],
   "source": [
    "# constants \n",
    "v = 0.001 # m^3 = 1000 cm^3\n",
    "rho = 6.022*(10**28) # m^-3 \n",
    "debye = 428 # K \n",
    "N = 50 # sample points"
   ]
  },
  {
   "cell_type": "code",
   "execution_count": 18,
   "metadata": {},
   "outputs": [],
   "source": [
    "# function accept temperature as variable \n",
    "# using the given routines gaussxwab to calculate the integral\n",
    "# return cv(T)\n",
    "def cv(T):\n",
    "    \n",
    "    # calculate integral using  the routines in the file gaussxb.py on Canvas\n",
    "    def f(x):\n",
    "        return (x**4) * np.exp(x) / (np.exp(x)-1)**2\n",
    "    a = 0\n",
    "    b = debye/T\n",
    "    \n",
    "    x, w = gaussxwab(N,a,b)\n",
    "    s = 0.0\n",
    "    for k in range(N):\n",
    "        s += w[k] * f(x[k])\n",
    "        \n",
    "    return 9*v*rho*constants.k * (T/debye)**3 * s"
   ]
  },
  {
   "cell_type": "markdown",
   "metadata": {},
   "source": [
    "### Part (b)"
   ]
  },
  {
   "cell_type": "code",
   "execution_count": 19,
   "metadata": {},
   "outputs": [
    {
     "data": {
      "image/png": "[encoded data removed]",
      "text/plain": [
       "<Figure size 576x432 with 1 Axes>"
      ]
     },
     "metadata": {
      "needs_background": "light"
     },
     "output_type": "display_data"
    }
   ],
   "source": [
    "# use function cv(T) to make a graph of the heat capacity as a function of temperature from T = 5K to 500K\n",
    "init_T = 5 # K\n",
    "final_T = 500 # K\n",
    "\n",
    "T_set = np.linspace(init_T, final_T, N)\n",
    "cv_set = [] \n",
    "for temp in T_set: \n",
    "    cv_set.append(cv(temp))\n",
    "\n",
    "fig,ax = plt.subplots(1,1)\n",
    "fig.set_size_inches(8,6)\n",
    "fig.tight_layout()\n",
    "\n",
    "ax.set_xlabel(\"T (K)\")\n",
    "ax.set_ylabel(\"$C_v$ (J/K)\")\n",
    "ax.set_title(\"The heat capacity as a function of temperature from T = 5 K to T = 500 K\")\n",
    "\n",
    "plt.plot(T_set, cv_set);"
   ]
  },
  {
   "cell_type": "markdown",
   "metadata": {},
   "source": [
    "<span style=\"color:red\">Correct 5/5</span>"
   ]
  },
  {
   "cell_type": "markdown",
   "metadata": {},
   "source": [
    "## Problem 3: Wave diffraction"
   ]
  },
  {
   "cell_type": "markdown",
   "metadata": {},
   "source": [
    "The wave will be diffracted at the edge, and the resulting intensity at the position (x,z) marked by the dot is given by near-filed diffraction theory to be \n",
    "\n",
    "$$I = \\frac{I_0}{8}\\{[2C(u) + 1]^2 + [2S(u) + 1]^2\\} $$\n",
    "\n",
    "where \n",
    "\n",
    "$$u = x\\sqrt{\\frac{2}{\\lambda z}}, \\qquad C(u) = \\int_{0}^{u}\\cos{\\frac{\\pi t^2}{2}}dt,  \\qquad S(u) = \\int_{0}^{u}\\sin{\\frac{\\pi t^2}{2}}dt $$"
   ]
  },
  {
   "cell_type": "code",
   "execution_count": 20,
   "metadata": {},
   "outputs": [],
   "source": [
    "# constants\n",
    "wavelength = 1 # m\n",
    "z = 3 # m from straight edge \n",
    "N = 50 # points "
   ]
  },
  {
   "cell_type": "code",
   "execution_count": 21,
   "metadata": {},
   "outputs": [],
   "source": [
    "def I_ratio(position):\n",
    "    u = position * np.sqrt(2/(wavelength*z))\n",
    "    \n",
    "    # calculate integral using  the routines in the file gaussxb.py on Canvas\n",
    "    def s(x):\n",
    "        return np.sin(np.pi*x**2/2)\n",
    "    def c(x):\n",
    "        return np.cos(np.pi*x**2/2)\n",
    "                      \n",
    "    a = 0\n",
    "    b = u\n",
    "    \n",
    "    x, w = gaussxwab(N,a,b)\n",
    "    s1 = 0.0\n",
    "    c1 = 0.0\n",
    "    for k in range(N):\n",
    "        s1 += w[k]*s(x[k])\n",
    "        c1 += w[k]*c(x[k])\n",
    "    \n",
    "    return ((2*c1 + 1)**2 + (2*s1 + 1)**2) / 8"
   ]
  },
  {
   "cell_type": "code",
   "execution_count": 22,
   "metadata": {},
   "outputs": [
    {
     "data": {
      "image/png": "[encoded data removed]",
      "text/plain": [
       "<Figure size 576x432 with 1 Axes>"
      ]
     },
     "metadata": {
      "needs_background": "light"
     },
     "output_type": "display_data"
    }
   ],
   "source": [
    "# use function I_ratio(x) to make a graph of the ratio as a function of x from x = -5 m to 5 m\n",
    "init_x = -5 # m\n",
    "final_x = 5 # m\n",
    "\n",
    "x_set = np.linspace(init_x, final_x, 1000)\n",
    "ratio_set = [] \n",
    "for x in x_set: \n",
    "    ratio_set.append(I_ratio(x))\n",
    "\n",
    "fig,ax = plt.subplots(1,1)\n",
    "fig.set_size_inches(8,6)\n",
    "fig.tight_layout()\n",
    "\n",
    "ax.set_xlabel(\"x (m)\")\n",
    "ax.set_ylabel(\"$I/I_0$\")\n",
    "ax.set_title(\"$I/I_0$ as a function of x in the range [-5 m, 5m] \")\n",
    "\n",
    "plt.plot(x_set, ratio_set);"
   ]
  },
  {
   "cell_type": "markdown",
   "metadata": {},
   "source": [
    "<span style=\"color:red\">Correct 5/5</span>"
   ]
  },
  {
   "cell_type": "markdown",
   "metadata": {},
   "source": [
    "## Problem 4: The Stefan-Boltzmann constant"
   ]
  },
  {
   "cell_type": "markdown",
   "metadata": {},
   "source": [
    "The Planck theory of thermal radiation tells us that in the (angular) frequency interval $\\omega$ to $\\omega + d\\omega$, a black body of unit area radiates electromagnetically an amount of thermal energy per second equal to $I(\\omega)d\\omega$, where \n",
    "\n",
    "$$I(\\omega) = \\frac{\\hbar}{4\\pi^2 c^2} \\frac{\\omega^3}{e^{\\hbar \\omega / k_B T} -1}$$\n",
    "\n",
    "Here $\\hbar$ is Planck's constant over 2$\\pi$, $c$ is the speed of light, and $k_B$ is Boltzmann's constant."
   ]
  },
  {
   "cell_type": "markdown",
   "metadata": {},
   "source": [
    "### Part (a)"
   ]
  },
  {
   "cell_type": "markdown",
   "metadata": {},
   "source": [
    "The total energy per unit area radiated by a blackbody is \n",
    "$$ W = \\int_{0}^{\\infty}I(\\omega)d\\omega = \\int_{0}^{\\infty}\\frac{\\hbar}{4\\pi^2 c^2} \\frac{\\omega^3}{e^{\\hbar \\omega / k_B T} -1}d\\omega$$\n",
    "Let $x =\\frac{\\hbar \\omega} {k_B T}$. Then,\n",
    "$$\\omega = \\frac{xk_B T}{\\hbar} \\rightarrow d\\omega = \\frac{k_B T dx}{\\hbar} $$\n",
    "\n",
    "Substitute both into W. We have:\n",
    "\n",
    "$$W = \\int_{0}^{\\infty}\\frac{\\hbar k_B^3 T^3}{4\\pi^2 c^2 \\hbar^3} \\frac{x^3}{e^{x} -1}\\frac{k_B T dx}{\\hbar}$$\n",
    "\n",
    "Or:\n",
    "\n",
    "$$W = \\frac{k_B^4 T^4}{4\\pi^2 c^2 \\hbar^3}\\int_{0}^{\\infty}\\frac{x^3}{(e^{x} -1)}dx$$\n"
   ]
  },
  {
   "cell_type": "markdown",
   "metadata": {},
   "source": [
    "### Part (b)"
   ]
  },
  {
   "cell_type": "markdown",
   "metadata": {},
   "source": [
    "For the above integral, it has an infinite range. So, I need to change variable to convert it back to finite range. Then, I would prefer using Gaussian quadrature since I don't need to worry about uniformly spacing data. And, I think it's faster, easier, and high accuracy too. \n",
    "\n",
    "Let $x = \\frac{z}{1-z} \\rightarrow dx = \\frac{dz}{(1-z)^2}$. Then, the integral becomes:\n",
    "$$\\int_{0}^{\\infty}\\frac{x^3}{(e^{x} -1)}dx=\\int_{0}^{1}\\left(\\frac{z}{1-z}\\right)^3\\frac{1}{e^{\\frac{z}{1-z}}-1}\\frac{dz}{(1-z)^2}$$\n"
   ]
  },
  {
   "cell_type": "code",
   "execution_count": 23,
   "metadata": {},
   "outputs": [
    {
     "name": "stdout",
     "output_type": "stream",
     "text": [
      "6.493939400514872\n"
     ]
    },
    {
     "name": "stderr",
     "output_type": "stream",
     "text": [
      "<ipython-input-23-681ba6cef868>:2: RuntimeWarning: overflow encountered in exp\n",
      "  return ((z**3)/(1-z)**5) * 1/(np.exp(z/(1-z))-1)\n"
     ]
    }
   ],
   "source": [
    "def h(z):\n",
    "    return ((z**3)/(1-z)**5) * 1/(np.exp(z/(1-z))-1)\n",
    "\n",
    "# calculate integral using  the routines in the file gaussxb.py on Canvas\n",
    "lower_lim = 0\n",
    "up_lim = 1\n",
    "    \n",
    "x1, w1 = gaussxwab(50,lower_lim,up_lim)\n",
    "integral = 0.0\n",
    "\n",
    "for l in range(50):\n",
    "    integral += w1[l]*h(x1[l])\n",
    "print(integral)"
   ]
  },
  {
   "cell_type": "markdown",
   "metadata": {},
   "source": [
    "### Part (c)"
   ]
  },
  {
   "cell_type": "markdown",
   "metadata": {},
   "source": [
    "Even  before  Planck  gave  his  theory  of  thermal  radiation  around  the  turn of  the  20th  century,  it  was  known  that  the  total  energy $W$ given  off  by  a  blackbody  per unit area per second followed Stefan’s law: $W=\\sigma_BT^4$, where $\\sigma_B$ is the Stefan-Boltzmann constant."
   ]
  },
  {
   "cell_type": "code",
   "execution_count": 24,
   "metadata": {},
   "outputs": [
    {
     "name": "stdout",
     "output_type": "stream",
     "text": [
      "The theory Stefan-Boltzmann constant is 5.670374419e-08.\n",
      "Our calculated constant is 5.670374417654657e-08.\n",
      "The percentage error is 1.3453430918684953e-19.\n"
     ]
    }
   ],
   "source": [
    "constant = (constants.k**4 / (4*(np.pi**2)*(constants.c**2)*(constants.hbar**3))) * integral\n",
    "error1 = abs(constant - constants.Stefan_Boltzmann)/100\n",
    "\n",
    "print(\"The theory Stefan-Boltzmann constant is %s.\" %(constants.Stefan_Boltzmann))\n",
    "print(\"Our calculated constant is %s.\" %(constant))\n",
    "print(\"The percentage error is %s.\" %(error1))"
   ]
  },
  {
   "cell_type": "markdown",
   "metadata": {},
   "source": [
    "If we only consider three significant figures, my calculated constant is exactly the same as theory constant: $\\sigma_B = 5.67\\times 10^{-8}$"
   ]
  },
  {
   "cell_type": "markdown",
   "metadata": {},
   "source": [
    "<span style=\"color:red\">Correct 10/10</span>"
   ]
  },
  {
   "cell_type": "code",
   "execution_count": null,
   "metadata": {},
   "outputs": [],
   "source": []
  }
 ],
 "metadata": {
  "kernelspec": {
   "display_name": "Python 3",
   "language": "python",
   "name": "python3"
  },
  "language_info": {
   "codemirror_mode": {
    "name": "ipython",
    "version": 3
   },
   "file_extension": ".py",
   "mimetype": "text/x-python",
   "name": "python",
   "nbconvert_exporter": "python",
   "pygments_lexer": "ipython3",
   "version": "3.8.5"
  }
 },
 "nbformat": 4,
 "nbformat_minor": 4
}
